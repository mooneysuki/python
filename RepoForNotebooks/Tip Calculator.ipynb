{
 "cells": [
  {
   "cell_type": "code",
   "execution_count": 59,
   "metadata": {},
   "outputs": [
    {
     "name": "stdout",
     "output_type": "stream",
     "text": [
      "Tip Calculator\n",
      "\n",
      "INPUT\n"
     ]
    },
    {
     "name": "stdin",
     "output_type": "stream",
     "text": [
      "Cost of meal:  52.31\n",
      "Tip percent:  20\n"
     ]
    },
    {
     "name": "stdout",
     "output_type": "stream",
     "text": [
      "\n",
      "OUTPUT\n",
      "Cost of meal: 52.31\n",
      "Tip percent: 20.0%\n",
      "Tip amount: 10.46\n",
      "Total amount: 62.77\n"
     ]
    }
   ],
   "source": [
    "def display_title():\n",
    "    print(\"Tip Calculator\")\n",
    "    print()\n",
    "    \n",
    "def tip_amount(cost, tip_p):\n",
    "        tip_amount = cost * tip_p\n",
    "        return tip_amount\n",
    "            \n",
    "def tip_percent():\n",
    "    while True:\n",
    "        try:\n",
    "            tip_percent = int(input(\"Tip percent: \")) / 100\n",
    "            return tip_percent\n",
    "        except ValueError:\n",
    "            print(\"Must be a valid integer. Please try again.\")\n",
    "            continue\n",
    "            \n",
    "def cost_of_meal():\n",
    "    while True:\n",
    "        try:\n",
    "            cost_of_meal = float(input(\"Cost of meal: \"))\n",
    "            if cost_of_meal <= 0:\n",
    "                print(\"Must be greater than 0. Please try again.\")\n",
    "                print()\n",
    "                continue\n",
    "            return cost_of_meal\n",
    "        except ValueError:\n",
    "            print(\"Must be a valid decimal number. Please try again.\")\n",
    "            continue\n",
    "    \n",
    "def total_amount(cost_of_meal, tip_amount):\n",
    "    total_amount = cost_of_meal + tip_amount\n",
    "    return total_amount\n",
    "    \n",
    "def main():\n",
    "    print(\"INPUT\")\n",
    "    cost = cost_of_meal()\n",
    "    tip_p = tip_percent()\n",
    "    tip_a = tip_amount(cost, tip_p)\n",
    "    total = total_amount(cost, tip_a)\n",
    "    \n",
    "    print()\n",
    "    print(\"OUTPUT\")\n",
    "    print(\"Cost of meal: \" + str(cost))\n",
    "    print(\"Tip percent: \" + str((tip_p * 100)) + \"%\")\n",
    "    print(\"Tip amount: %.2f\" % tip_a)\n",
    "    print(\"Total amount: %.2f\" % total)\n",
    "    \n",
    "if __name__ == '__main__':\n",
    "    display_title()\n",
    "    main()"
   ]
  },
  {
   "cell_type": "code",
   "execution_count": null,
   "metadata": {},
   "outputs": [],
   "source": []
  }
 ],
 "metadata": {
  "kernelspec": {
   "display_name": "Python 3",
   "language": "python",
   "name": "python3"
  },
  "language_info": {
   "codemirror_mode": {
    "name": "ipython",
    "version": 3
   },
   "file_extension": ".py",
   "mimetype": "text/x-python",
   "name": "python",
   "nbconvert_exporter": "python",
   "pygments_lexer": "ipython3",
   "version": "3.7.3"
  }
 },
 "nbformat": 4,
 "nbformat_minor": 4
}
